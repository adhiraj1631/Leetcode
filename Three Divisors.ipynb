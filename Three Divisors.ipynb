{
 "cells": [
  {
   "cell_type": "markdown",
   "id": "afe21225",
   "metadata": {},
   "source": [
    "### Code\n",
    "1952. Three Divisors\n",
    "Solved\n",
    "Easy\n",
    "Topics\n",
    "Companies\n",
    "Hint\n",
    "Given an integer n, return true if n has exactly three positive divisors. Otherwise, return false.\n",
    "\n",
    "An integer m is a divisor of n if there exists an integer k such that n = k * m.\n",
    "\n",
    " \n",
    "\n",
    "Example 1:\n",
    "\n",
    "Input: n = 2\n",
    "Output: false\n",
    "Explantion: 2 has only two divisors: 1 and 2.\n",
    "Example 2:\n",
    "\n",
    "Input: n = 4\n",
    "Output: true\n",
    "Explantion: 4 has three divisors: 1, 2, and 4.\n",
    " \n",
    "\n",
    "Constraints:\n",
    "\n",
    "1 <= n <= 104"
   ]
  },
  {
   "cell_type": "code",
   "execution_count": null,
   "id": "ba1d4701",
   "metadata": {},
   "outputs": [],
   "source": [
    "class Solution {\n",
    "    public boolean isThree(int n) {\n",
    "      int sqrt = (int) Math.sqrt(n);\n",
    "        if (sqrt * sqrt != n)\n",
    "            return false;\n",
    "        int divisors = 1;\n",
    "        for (int i = 1; i < sqrt; i++) {\n",
    "            if (n % i == 0)\n",
    "                divisors += 2;\n",
    "        }\n",
    "        return divisors == 3;  \n",
    "    }\n",
    "}"
   ]
  }
 ],
 "metadata": {
  "kernelspec": {
   "display_name": "Python 3 (ipykernel)",
   "language": "python",
   "name": "python3"
  },
  "language_info": {
   "codemirror_mode": {
    "name": "ipython",
    "version": 3
   },
   "file_extension": ".py",
   "mimetype": "text/x-python",
   "name": "python",
   "nbconvert_exporter": "python",
   "pygments_lexer": "ipython3",
   "version": "3.10.9"
  }
 },
 "nbformat": 4,
 "nbformat_minor": 5
}
